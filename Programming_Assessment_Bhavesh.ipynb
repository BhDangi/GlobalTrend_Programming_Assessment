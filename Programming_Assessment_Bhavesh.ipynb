{
  "nbformat": 4,
  "nbformat_minor": 0,
  "metadata": {
    "colab": {
      "provenance": [],
      "toc_visible": true
    },
    "kernelspec": {
      "name": "python3",
      "display_name": "Python 3"
    },
    "language_info": {
      "name": "python"
    }
  },
  "cells": [
    {
      "cell_type": "markdown",
      "source": [
        "1. Implement a Python class MaxHeap that supports the following operations: insert, delete, and get_max. Ensure the operations maintain the properties of a max-heap."
      ],
      "metadata": {
        "id": "qJVZljI09hSL"
      }
    },
    {
      "cell_type": "code",
      "execution_count": 2,
      "metadata": {
        "id": "k63_4rVj_aT-",
        "colab": {
          "base_uri": "https://localhost:8080/"
        },
        "outputId": "038039ac-9a98-45a3-b3c7-2a2047389213"
      },
      "outputs": [
        {
          "output_type": "stream",
          "name": "stdout",
          "text": [
            "[20, 10, 5]\n",
            "20\n",
            "[10, 5]\n",
            "10\n"
          ]
        }
      ],
      "source": [
        "class MaxHeap:\n",
        "    def __init__(self):\n",
        "        self.heap = []\n",
        "\n",
        "    def insert(self, val): # Insert element function\n",
        "        self.heap.append(val)\n",
        "        self._sift_up(len(self.heap) - 1)\n",
        "\n",
        "    def delete(self):   # Delete element function\n",
        "        if len(self.heap) > 1:\n",
        "            self._swap(0, len(self.heap) - 1)\n",
        "            max_val = self.heap.pop()\n",
        "            self._sift_down(0)\n",
        "        elif self.heap:\n",
        "            max_val = self.heap.pop()\n",
        "        else:\n",
        "            max_val = None\n",
        "        return max_val\n",
        "\n",
        "    def _sift_up(self, index):\n",
        "        parent = (index - 1) // 2\n",
        "        if index > 0 and self.heap[index] > self.heap[parent]:\n",
        "            self._swap(index, parent)\n",
        "            self._sift_up(parent)\n",
        "\n",
        "    def _sift_down(self, index):\n",
        "        largest = index\n",
        "        left = 2 * index + 1\n",
        "        right = 2 * index + 2\n",
        "        if left < len(self.heap) and self.heap[left] > self.heap[largest]:\n",
        "            largest = left\n",
        "        if right < len(self.heap) and self.heap[right] > self.heap[largest]:\n",
        "            largest = right\n",
        "        if largest != index:\n",
        "            self._swap(index, largest)\n",
        "            self._sift_down(largest)\n",
        "\n",
        "    def _swap(self, i, j):\n",
        "        self.heap[i], self.heap[j] = self.heap[j], self.heap[i]\n",
        "\n",
        "    def get_max(self):  # Give the max element\n",
        "        if len(self.heap) == 0:\n",
        "            return None\n",
        "        return self.heap[0]\n",
        "\n",
        "\n",
        "# Example usage: Calling all function\n",
        "heap = MaxHeap()\n",
        "heap.insert(10)\n",
        "heap.insert(20)\n",
        "heap.insert(5)\n",
        "print(heap.heap)\n",
        "print(heap.delete())\n",
        "print(heap.heap)\n",
        "print(heap.get_max())"
      ]
    },
    {
      "cell_type": "markdown",
      "source": [
        "2. Write a Python function that takes a list of URLs, attempts to download their content, and retries up to 3 times if an error occurs. Use appropriate error handling to manage different types of exceptions."
      ],
      "metadata": {
        "id": "kXdbXYB-BSZ6"
      }
    },
    {
      "cell_type": "code",
      "source": [
        "import requests\n",
        "from time import sleep\n",
        "\n",
        "def download_content(urls):\n",
        "    contents = []\n",
        "    for url in urls:\n",
        "        retries = 3\n",
        "        while retries > 0:\n",
        "            try:\n",
        "                response = requests.get(url, timeout=5)\n",
        "                response.raise_for_status()  # Raise an HTTPError for bad responses (4xx or 5xx)\n",
        "                contents.append(response.text)\n",
        "                print(f\"Successfully downloaded content from {url}\")\n",
        "                break  # Exit the retry loop since the request was successful\n",
        "            except requests.exceptions.Timeout:\n",
        "                print(f\"Timeout error for {url}. Retrying... ({3 - retries + 1}/3)\")\n",
        "            except requests.exceptions.ConnectionError:\n",
        "                print(f\"Connection error for {url}. Retrying... ({3 - retries + 1}/3)\")\n",
        "            except requests.exceptions.HTTPError as e:\n",
        "                print(f\"HTTP error for {url}: {e}.\")\n",
        "                break  # HTTP errors are usually not retryable\n",
        "            except requests.exceptions.RequestException as e:\n",
        "                print(f\"Error for {url}: {e}.\")\n",
        "                break  # Any other exceptions, break the retry loop\n",
        "\n",
        "            retries -= 1\n",
        "            sleep(1)  # Wait for 1 second before retrying\n",
        "\n",
        "        if retries == 0:\n",
        "            print(f\"Failed to download content from {url} after 3 retries.\")\n",
        "            contents.append(None)\n",
        "\n",
        "    return contents\n",
        "\n",
        "# Example usage\n",
        "urls = [\n",
        "    \"https://www.example.com\",\n",
        "    \"https://www.nonexistentwebsite.com\",\n",
        "    \"https://www.google.com\"\n",
        "]\n",
        "\n",
        "contents = download_content(urls)\n",
        "for i, content in enumerate(contents):\n",
        "    if content is not None:  # Check if content is not None before slicing\n",
        "        print(f\"Content from URL {i+1}: {content[:100]}\")\n",
        "    else:\n",
        "        print(f\"Content from URL {i+1}: Download failed.\")"
      ],
      "metadata": {
        "colab": {
          "base_uri": "https://localhost:8080/"
        },
        "id": "NkssRyFgBY_-",
        "outputId": "93182eef-291f-4c57-dcee-78e27e345dee"
      },
      "execution_count": 4,
      "outputs": [
        {
          "output_type": "stream",
          "name": "stdout",
          "text": [
            "Successfully downloaded content from https://www.example.com\n",
            "Connection error for https://www.nonexistentwebsite.com. Retrying... (1/3)\n",
            "Connection error for https://www.nonexistentwebsite.com. Retrying... (2/3)\n",
            "Connection error for https://www.nonexistentwebsite.com. Retrying... (3/3)\n",
            "Failed to download content from https://www.nonexistentwebsite.com after 3 retries.\n",
            "Successfully downloaded content from https://www.google.com\n",
            "Content from URL 1: <!doctype html>\n",
            "<html>\n",
            "<head>\n",
            "    <title>Example Domain</title>\n",
            "\n",
            "    <meta charset=\"utf-8\" />\n",
            "    <m\n",
            "Content from URL 2: Download failed.\n",
            "Content from URL 3: <!doctype html><html itemscope=\"\" itemtype=\"http://schema.org/WebPage\" lang=\"en\"><head><meta content\n"
          ]
        }
      ]
    },
    {
      "cell_type": "markdown",
      "source": [
        "3. Write a Python script that trains a simple linear regression model using scikit-learn. Use a dataset of your choice, split it into training and testing sets, and evaluate the model's performance.\n"
      ],
      "metadata": {
        "id": "dlZRZoBuDvzV"
      }
    },
    {
      "cell_type": "code",
      "source": [
        "import numpy as np\n",
        "import pandas as pd\n",
        "from sklearn.datasets import fetch_california_housing\n",
        "from sklearn.model_selection import train_test_split\n",
        "from sklearn.linear_model import LinearRegression\n",
        "from sklearn.metrics import mean_squared_error, r2_score\n",
        "\n",
        "# Load the Boston Housing dataset\n",
        "california = fetch_california_housing()\n",
        "data = pd.DataFrame(california.data, columns=california.feature_names)\n",
        "data['PRICE'] = california.target\n",
        "\n",
        "# Define features and target\n",
        "X = data.drop('PRICE', axis=1)\n",
        "y = data['PRICE']\n",
        "\n",
        "# Split the data into training and testing sets\n",
        "X_train, X_test, y_train, y_test = train_test_split(X, y, test_size=0.2, random_state=42)\n",
        "\n",
        "# Initialize the linear regression model\n",
        "model = LinearRegression()\n",
        "\n",
        "# Train the model\n",
        "model.fit(X_train, y_train)\n",
        "\n",
        "# Make predictions on the test set\n",
        "y_pred = model.predict(X_test)\n",
        "\n",
        "# Evaluate the model's performance\n",
        "mse = mean_squared_error(y_test, y_pred)\n",
        "r2 = r2_score(y_test, y_pred)\n",
        "\n",
        "# Print the results\n",
        "print(f\"Mean Squared Error: {mse}\")\n",
        "print(f\"R-squared: {r2}\")\n",
        "\n",
        "# Optional: Print the coefficients\n",
        "coefficients = pd.DataFrame(model.coef_, X.columns, columns=['Coefficient'])\n",
        "print(coefficients)\n"
      ],
      "metadata": {
        "colab": {
          "base_uri": "https://localhost:8080/"
        },
        "id": "x9xX_4YpNqmY",
        "outputId": "1472346a-dea5-4dd7-ee43-bb61e8389c29"
      },
      "execution_count": 6,
      "outputs": [
        {
          "output_type": "stream",
          "name": "stdout",
          "text": [
            "Mean Squared Error: 0.5558915986952444\n",
            "R-squared: 0.5757877060324508\n",
            "            Coefficient\n",
            "MedInc         0.448675\n",
            "HouseAge       0.009724\n",
            "AveRooms      -0.123323\n",
            "AveBedrms      0.783145\n",
            "Population    -0.000002\n",
            "AveOccup      -0.003526\n",
            "Latitude      -0.419792\n",
            "Longitude     -0.433708\n"
          ]
        }
      ]
    },
    {
      "cell_type": "markdown",
      "source": [
        "4. Using pandas, write a Python function to clean and preprocess a given DataFrame, which involves handling missing values, normalizing numerical columns, and encoding categorical columns."
      ],
      "metadata": {
        "id": "3TKXRTDSOsf4"
      }
    },
    {
      "cell_type": "code",
      "source": [
        "import pandas as pd\n",
        "from sklearn.preprocessing import MinMaxScaler, OneHotEncoder\n",
        "\n",
        "def clean_and_preprocess(df):\n",
        "    # Handle missing values\n",
        "    df = df.fillna(df.median(numeric_only=True))  # Fill numeric NaNs with median\n",
        "    df = df.fillna(df.mode().iloc[0])  # Fill categorical NaNs with mode\n",
        "\n",
        "    # Normalize numerical columns\n",
        "    numeric_columns = df.select_dtypes(include=['number']).columns\n",
        "    scaler = MinMaxScaler()\n",
        "    df[numeric_columns] = scaler.fit_transform(df[numeric_columns])\n",
        "\n",
        "    # Encode categorical columns\n",
        "    categorical_columns = df.select_dtypes(include=['object', 'category']).columns\n",
        "    encoder = OneHotEncoder(sparse=False, drop='first')  # Drop the first to avoid multicollinearity\n",
        "    encoded_df = pd.DataFrame(encoder.fit_transform(df[categorical_columns]), columns=encoder.get_feature_names_out(categorical_columns))\n",
        "\n",
        "    # Drop original categorical columns and concatenate the encoded columns\n",
        "    df = df.drop(categorical_columns, axis=1)\n",
        "    df = pd.concat([df, encoded_df], axis=1)\n",
        "\n",
        "    return df\n",
        "\n",
        "# Example usage\n",
        "data = {\n",
        "    'age': [25, 30, 35, np.nan, 40],\n",
        "    'salary': [50000, 60000, 80000, 75000, np.nan],\n",
        "    'gender': ['male', 'female', np.nan, 'female', 'male'],\n",
        "    'department': ['sales', 'engineering', 'engineering', np.nan, 'sales']\n",
        "}\n",
        "df = pd.DataFrame(data)\n",
        "\n",
        "cleaned_df = clean_and_preprocess(df)\n",
        "print(cleaned_df)\n"
      ],
      "metadata": {
        "colab": {
          "base_uri": "https://localhost:8080/"
        },
        "id": "9ehcliO7O0uB",
        "outputId": "37ffaec0-2263-45cc-99b2-f5ddb366c855"
      },
      "execution_count": 7,
      "outputs": [
        {
          "output_type": "stream",
          "name": "stdout",
          "text": [
            "        age    salary  gender_male  department_sales\n",
            "0  0.000000  0.000000          1.0               1.0\n",
            "1  0.333333  0.333333          0.0               0.0\n",
            "2  0.666667  1.000000          0.0               0.0\n",
            "3  0.500000  0.833333          0.0               0.0\n",
            "4  1.000000  0.583333          1.0               1.0\n"
          ]
        },
        {
          "output_type": "stream",
          "name": "stderr",
          "text": [
            "/usr/local/lib/python3.10/dist-packages/sklearn/preprocessing/_encoders.py:868: FutureWarning: `sparse` was renamed to `sparse_output` in version 1.2 and will be removed in 1.4. `sparse_output` is ignored unless you leave `sparse` to its default value.\n",
            "  warnings.warn(\n"
          ]
        }
      ]
    },
    {
      "cell_type": "markdown",
      "source": [
        "5. Write a Python function to compute the nth Fibonacci number using recursion.\n"
      ],
      "metadata": {
        "id": "HdGYGEezYZLh"
      }
    },
    {
      "cell_type": "code",
      "source": [
        "def fibonacci_recursive(n):\n",
        "    # Base cases\n",
        "    if n < 0:\n",
        "        return \"Error: Fibonacci sequence is not defined for negative numbers.\"\n",
        "    elif n == 0:\n",
        "        return 0\n",
        "    elif n == 1:\n",
        "        return 1\n",
        "    else:\n",
        "        return fibonacci_recursive(n-1) + fibonacci_recursive(n-2)\n",
        "\n",
        "# Get input from the user\n",
        "while True:\n",
        "    try:\n",
        "        n = int(input(\"Find the nth Fibonacci number: \"))\n",
        "        break\n",
        "    except ValueError:\n",
        "        print(\"Invalid input. Please enter a valid integer.\")\n",
        "\n",
        "# Call the function with user input\n",
        "fib_n = fibonacci_recursive(n)\n",
        "print(f\"The {n}th Fibonacci number is: {fib_n}\")\n"
      ],
      "metadata": {
        "colab": {
          "base_uri": "https://localhost:8080/"
        },
        "id": "Zbgx59dzYgdu",
        "outputId": "512a3233-f27c-4459-eca1-2b693c43327c"
      },
      "execution_count": 8,
      "outputs": [
        {
          "output_type": "stream",
          "name": "stdout",
          "text": [
            "Find the nth Fibonacci number: 10\n",
            "The 10th Fibonacci number is: 55\n"
          ]
        }
      ]
    },
    {
      "cell_type": "markdown",
      "source": [
        "6. Write a Python function that divides two numbers and handles the case where the divisor is zero by returning a custom error message."
      ],
      "metadata": {
        "id": "6qzk6haSZSPz"
      }
    },
    {
      "cell_type": "code",
      "source": [
        "def divide_numbers(dividend, divisor):\n",
        "    try:\n",
        "        result = dividend / divisor\n",
        "        return result\n",
        "    except ZeroDivisionError:\n",
        "        return \"Error: Division by zero is not allowed.\"\n",
        "\n",
        "# Get input from the user\n",
        "while True:\n",
        "    try:\n",
        "        dividend = float(input(\"Enter the dividend: \"))\n",
        "        divisor = float(input(\"Enter the divisor: \"))\n",
        "        break\n",
        "    except ValueError:\n",
        "        print(\"Invalid input. Please enter numeric values.\")\n",
        "\n",
        "# Call the function with user input\n",
        "result = divide_numbers(dividend, divisor)\n",
        "print(result)\n"
      ],
      "metadata": {
        "colab": {
          "base_uri": "https://localhost:8080/"
        },
        "id": "uYfTosfeZXGo",
        "outputId": "37b8cec7-5825-49a6-9b72-7ced4dbc4197"
      },
      "execution_count": 11,
      "outputs": [
        {
          "output_type": "stream",
          "name": "stdout",
          "text": [
            "Enter the dividend: 10\n",
            "Enter the divisor: 0\n",
            "Error: Division by zero is not allowed.\n"
          ]
        }
      ]
    },
    {
      "cell_type": "markdown",
      "source": [
        "7. Write a Python decorator that measures the execution time of a function and logs it. Apply this decorator to a function that performs a computationally expensive task.\n"
      ],
      "metadata": {
        "id": "6zXI_nUMaE8f"
      }
    },
    {
      "cell_type": "code",
      "source": [
        "import time\n",
        "import functools\n",
        "\n",
        "# Decorator function to measure execution time and log it\n",
        "def measure_execution_time(func):\n",
        "    @functools.wraps(func)\n",
        "    def wrapper(*args, **kwargs):\n",
        "        start_time = time.time()\n",
        "        result = func(*args, **kwargs)\n",
        "        end_time = time.time()\n",
        "        execution_time = end_time - start_time\n",
        "        print(f\"Function {func.__name__} executed in {execution_time:.4f} seconds\")\n",
        "        return result\n",
        "    return wrapper\n",
        "\n",
        "# Example: A function that performs a computationally expensive task\n",
        "@measure_execution_time\n",
        "def compute_factorial(n):\n",
        "    factorial = 1\n",
        "    for i in range(1, n+1):\n",
        "        factorial *= i\n",
        "    return factorial\n",
        "\n",
        "# Example usage with user input\n",
        "while True:\n",
        "    try:\n",
        "        n = int(input(\"Enter a non-negative integer to compute its factorial: \"))\n",
        "        if n < 0:\n",
        "            print(\"Please enter a non-negative integer.\")\n",
        "        else:\n",
        "            break\n",
        "    except ValueError:\n",
        "        print(\"Invalid input. Please enter a valid integer.\")\n",
        "\n",
        "result = compute_factorial(n)\n",
        "print(f\"The factorial of {n} is: {result}\")\n"
      ],
      "metadata": {
        "colab": {
          "base_uri": "https://localhost:8080/"
        },
        "id": "mbMTJi1uaYCk",
        "outputId": "c892de8f-0353-4932-bf49-bfc1a0fc0fba"
      },
      "execution_count": 12,
      "outputs": [
        {
          "output_type": "stream",
          "name": "stdout",
          "text": [
            "Enter a non-negative integer to compute its factorial: 200\n",
            "Function compute_factorial executed in 0.0000 seconds\n",
            "The factorial of 200 is: 788657867364790503552363213932185062295135977687173263294742533244359449963403342920304284011984623904177212138919638830257642790242637105061926624952829931113462857270763317237396988943922445621451664240254033291864131227428294853277524242407573903240321257405579568660226031904170324062351700858796178922222789623703897374720000000000000000000000000000000000000000000000000\n"
          ]
        }
      ]
    },
    {
      "cell_type": "markdown",
      "source": [
        "8. Write a Python function that takes two numbers and an operator (as a string) and performs the corresponding arithmetic operation (addition, subtraction, multiplication, or division)"
      ],
      "metadata": {
        "id": "YqTrN8vsagek"
      }
    },
    {
      "cell_type": "code",
      "source": [
        "def arithmetic_operation(num1, num2, operator):\n",
        "    if operator == '+':\n",
        "        return num1 + num2\n",
        "    elif operator == '-':\n",
        "        return num1 - num2\n",
        "    elif operator == '*':\n",
        "        return num1 * num2\n",
        "    elif operator == '/':\n",
        "        # Check for division by zero\n",
        "        if num2 == 0:\n",
        "            return \"Error: Division by zero is not allowed.\"\n",
        "        else:\n",
        "            return num1 / num2\n",
        "    else:\n",
        "        return f\"Error: Unsupported operator '{operator}'.\"\n",
        "\n",
        "# Get input from the user\n",
        "while True:\n",
        "    try:\n",
        "        num1 = float(input(\"Enter the first number: \"))\n",
        "        num2 = float(input(\"Enter the second number: \"))\n",
        "        operator = input(\"Enter the operator (+, -, *, /): \")\n",
        "\n",
        "        result = arithmetic_operation(num1, num2, operator)\n",
        "        print(f\"{num1} {operator} {num2} = {result}\")\n",
        "        break\n",
        "    except ValueError:\n",
        "        print(\"Invalid input. Please enter numeric values.\")\n",
        "    except KeyboardInterrupt:\n",
        "        print(\"\\n\\nKeyboardInterrupt: Program terminated by user.\")\n",
        "        break\n"
      ],
      "metadata": {
        "colab": {
          "base_uri": "https://localhost:8080/"
        },
        "id": "gsQMYkPjbB0X",
        "outputId": "a9a0f389-ae45-44e3-b1ef-85d8e312fcf4"
      },
      "execution_count": 13,
      "outputs": [
        {
          "output_type": "stream",
          "name": "stdout",
          "text": [
            "Enter the first number: 4\n",
            "Enter the second number: 6\n",
            "Enter the operator (+, -, *, /): +\n",
            "4.0 + 6.0 = 10.0\n"
          ]
        }
      ]
    },
    {
      "cell_type": "markdown",
      "source": [
        "9. Write a Python function that generates a random password. The password should contain a mix of uppercase letters, lowercase letters, digits, and special characters"
      ],
      "metadata": {
        "id": "VDR6fdyhbVNA"
      }
    },
    {
      "cell_type": "code",
      "source": [
        "import random\n",
        "import string\n",
        "\n",
        "def generate_random_password(length=12):\n",
        "    # Define characters to choose from\n",
        "    characters = string.ascii_letters + string.digits + string.punctuation\n",
        "\n",
        "    # Generate password\n",
        "    password = ''.join(random.choice(characters) for _ in range(length))\n",
        "\n",
        "    return password\n",
        "\n",
        "# Example usage:\n",
        "generated_password = generate_random_password()\n",
        "print(f\"Generated Password: {generated_password}\")\n"
      ],
      "metadata": {
        "colab": {
          "base_uri": "https://localhost:8080/"
        },
        "id": "wcmeJVf-bbnt",
        "outputId": "441edf56-a62a-413b-9792-56ec3bfe760f"
      },
      "execution_count": 14,
      "outputs": [
        {
          "output_type": "stream",
          "name": "stdout",
          "text": [
            "Generated Password: q9\\t4QOxdI^?\n"
          ]
        }
      ]
    },
    {
      "cell_type": "markdown",
      "source": [
        "10. Write a Python function that takes a 2D list (matrix) and returns its transpose"
      ],
      "metadata": {
        "id": "QK_nhjpAbkkA"
      }
    },
    {
      "cell_type": "code",
      "source": [
        "def transpose_matrix(matrix):\n",
        "    # Check if matrix is empty\n",
        "    if not matrix:\n",
        "        return []\n",
        "\n",
        "    # Dimensions of the original matrix\n",
        "    rows = len(matrix)\n",
        "    cols = len(matrix[0])\n",
        "\n",
        "    # Create a new transposed matrix\n",
        "    transposed = [[None]*rows for _ in range(cols)]\n",
        "\n",
        "    # Fill the transposed matrix\n",
        "    for i in range(rows):\n",
        "        for j in range(cols):\n",
        "            transposed[j][i] = matrix[i][j]\n",
        "\n",
        "    return transposed\n",
        "\n",
        "# Function to get matrix input from user\n",
        "def get_matrix_input():\n",
        "    try:\n",
        "        rows = int(input(\"Enter the number of rows in the matrix: \"))\n",
        "        cols = int(input(\"Enter the number of columns in the matrix: \"))\n",
        "\n",
        "        matrix = []\n",
        "        print(\"Enter the elements of the matrix row by row:\")\n",
        "        for i in range(rows):\n",
        "            row = []\n",
        "            for j in range(cols):\n",
        "                element = int(input(f\"Enter element at position ({i+1},{j+1}): \"))\n",
        "                row.append(element)\n",
        "            matrix.append(row)\n",
        "\n",
        "        return matrix\n",
        "\n",
        "    except ValueError:\n",
        "        print(\"Invalid input. Please enter valid integers.\")\n",
        "\n",
        "# Example usage with user input\n",
        "matrix = get_matrix_input()\n",
        "print(\"\\nOriginal Matrix:\")\n",
        "for row in matrix:\n",
        "    print(row)\n",
        "\n",
        "transposed_matrix = transpose_matrix(matrix)\n",
        "print(\"\\nTransposed Matrix:\")\n",
        "for row in transposed_matrix:\n",
        "    print(row)\n"
      ],
      "metadata": {
        "colab": {
          "base_uri": "https://localhost:8080/"
        },
        "id": "kcCdytnabrN-",
        "outputId": "06820791-2910-429a-eaf7-2ca713d8c4eb"
      },
      "execution_count": 16,
      "outputs": [
        {
          "output_type": "stream",
          "name": "stdout",
          "text": [
            "Enter the number of rows in the matrix: 2\n",
            "Enter the number of columns in the matrix: 3\n",
            "Enter the elements of the matrix row by row:\n",
            "Enter element at position (1,1): 3\n",
            "Enter element at position (1,2): 4\n",
            "Enter element at position (1,3): 4\n",
            "Enter element at position (2,1): 2\n",
            "Enter element at position (2,2): 5\n",
            "Enter element at position (2,3): 2\n",
            "\n",
            "Original Matrix:\n",
            "[3, 4, 4]\n",
            "[2, 5, 2]\n",
            "\n",
            "Transposed Matrix:\n",
            "[3, 2]\n",
            "[4, 5]\n",
            "[4, 2]\n"
          ]
        }
      ]
    }
  ]
}